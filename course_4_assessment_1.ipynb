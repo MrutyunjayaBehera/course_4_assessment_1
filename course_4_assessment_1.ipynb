{
 "cells": [
  {
   "cell_type": "code",
   "execution_count": 7,
   "metadata": {},
   "outputs": [],
   "source": [
    "class Bike:\n",
    "    def __init__(self, color, price):\n",
    "        self.color = color\n",
    "        self.price = price\n",
    "        \n",
    "testOne = Bike(\"blue\", 89.99)\n",
    "testTwo = Bike(\"purple\", 25.0)"
   ]
  },
  {
   "cell_type": "code",
   "execution_count": 15,
   "metadata": {},
   "outputs": [],
   "source": [
    "class AppleBasket:\n",
    "    \n",
    "    def __init__(self, initX, initY):\n",
    "        self.apple_color = initX\n",
    "        self.apple_quantity = initY\n",
    "        \n",
    "    def increase():\n",
    "        self.apple_quantity += 1\n",
    "        \n",
    "    def __str__(self):\n",
    "        return \"A basket of {} {} apples.\".format(self.apple_quantity, self.apple_color)"
   ]
  },
  {
   "cell_type": "code",
   "execution_count": 17,
   "metadata": {},
   "outputs": [],
   "source": [
    "class BankAccount:\n",
    "    \n",
    "    def __init__(self, initX, initY):\n",
    "        self.name = initX\n",
    "        self.amt = initY\n",
    "        \n",
    "    def __str__(self):\n",
    "        return \"Your account, {}, has {} dollars.\".format(self.name, self.amt)\n",
    "    \n",
    "t1 = BankAccount(\"Bob\", 100)"
   ]
  }
 ],
 "metadata": {
  "kernelspec": {
   "display_name": "Python 3",
   "language": "python",
   "name": "python3"
  },
  "language_info": {
   "codemirror_mode": {
    "name": "ipython",
    "version": 3
   },
   "file_extension": ".py",
   "mimetype": "text/x-python",
   "name": "python",
   "nbconvert_exporter": "python",
   "pygments_lexer": "ipython3",
   "version": "3.8.2"
  }
 },
 "nbformat": 4,
 "nbformat_minor": 4
}
